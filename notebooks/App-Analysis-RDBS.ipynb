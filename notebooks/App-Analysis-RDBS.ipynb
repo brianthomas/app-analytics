{
 "cells": [
  {
   "cell_type": "markdown",
   "metadata": {},
   "source": [
    "(Relational) Database Analysis Using BigFix Webreports Data\n",
    "04/03/2018 snapshot\n",
    "\n",
    "Notebook developed around BigFix dataset to understand Database software at the agency it is backed by a postgresql database. See README.md on building the database.\n",
    "\n",
    "Uploaded data are restricted to Windows and MacOS machines (server & desktop included)"
   ]
  },
  {
   "cell_type": "code",
   "execution_count": null,
   "metadata": {},
   "outputs": [],
   "source": [
    "# import needed libs\n",
    "import sys\n",
    "sys.path.append(\"../bin\")\n",
    "from db_util import *\n",
    "from IPython.display import display, HTML"
   ]
  },
  {
   "cell_type": "code",
   "execution_count": null,
   "metadata": {},
   "outputs": [],
   "source": [
    "# Here is a list of everything we are going to look for\n",
    "# RELATIONAL_DB_LIST"
   ]
  },
  {
   "cell_type": "code",
   "execution_count": null,
   "metadata": {},
   "outputs": [],
   "source": [
    "# make the connection to the database we want to use for analysis\n",
    "# this DB was contructed from BigFix Webreport data taken on April 4th, 2018)\n",
    "CONN = create_connection('apps2')"
   ]
  },
  {
   "cell_type": "code",
   "execution_count": null,
   "metadata": {},
   "outputs": [],
   "source": [
    "types = count_rdbs_types(CONN)"
   ]
  },
  {
   "cell_type": "code",
   "execution_count": null,
   "metadata": {},
   "outputs": [],
   "source": [
    "# all of the db software where we have 1 or more types/permutations which match\n",
    "types[types['num_types'] > 0]"
   ]
  },
  {
   "cell_type": "code",
   "execution_count": null,
   "metadata": {},
   "outputs": [],
   "source": [
    "# for a more indepth analysis of types/permutations in DB software lets\n",
    "# get a histogram breaking down all of the types we match\n",
    "#data = \n",
    "# db_software_histo ('Microsoft SQL Server%', conn=CONN)\n",
    "# display(HTML(data.to_html()))"
   ]
  },
  {
   "cell_type": "code",
   "execution_count": null,
   "metadata": {},
   "outputs": [],
   "source": [
    "# find install info for rdbs\n",
    "installs = count_rdbs_installs(CONN)"
   ]
  },
  {
   "cell_type": "code",
   "execution_count": null,
   "metadata": {},
   "outputs": [],
   "source": [
    "# all of the db software where we have 1 or more installs (for any type/permutation)\n",
    "installs[installs['num_installs'] > 0]"
   ]
  },
  {
   "cell_type": "markdown",
   "metadata": {},
   "source": [
    "So this is completely different from the BigFix Inventory (BFI) data source. We can't explain how there are significantly more MS SQL Server instances in Webreports data vs BFI. Its not an issue of goofing the filter (at least, nothing obvious). Here is the filter criteria for finding MS SQL Server and MS Access instances in Webreports data:"
   ]
  },
  {
   "cell_type": "code",
   "execution_count": null,
   "metadata": {},
   "outputs": [],
   "source": [
    "db_software_histo ('Microsoft SQL Server%', conn=CONN)"
   ]
  },
  {
   "cell_type": "code",
   "execution_count": null,
   "metadata": {},
   "outputs": [],
   "source": [
    "#db_software_histo ('FileMaker Pro%', conn=CONN)\n",
    "db_software_histo ('Microsoft Access%', conn=CONN)"
   ]
  },
  {
   "cell_type": "markdown",
   "metadata": {},
   "source": [
    "Summary:"
   ]
  },
  {
   "cell_type": "markdown",
   "metadata": {},
   "source": [
    "Neither datasource can be trusted at this point. We need to understand better the filtering criteria which BFI is applying as well as a more detailed look into machines showing MS SQL Server which are not showing up in BFI."
   ]
  },
  {
   "cell_type": "code",
   "execution_count": null,
   "metadata": {},
   "outputs": [],
   "source": []
  }
 ],
 "metadata": {
  "kernelspec": {
   "display_name": "Python 3",
   "language": "python",
   "name": "python3"
  },
  "language_info": {
   "codemirror_mode": {
    "name": "ipython",
    "version": 3
   },
   "file_extension": ".py",
   "mimetype": "text/x-python",
   "name": "python",
   "nbconvert_exporter": "python",
   "pygments_lexer": "ipython3",
   "version": "3.6.4"
  }
 },
 "nbformat": 4,
 "nbformat_minor": 2
}
