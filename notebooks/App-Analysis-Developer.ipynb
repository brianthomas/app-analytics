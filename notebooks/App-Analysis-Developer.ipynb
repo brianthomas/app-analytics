{
 "cells": [
  {
   "cell_type": "markdown",
   "metadata": {},
   "source": [
    "# Developer Tools Analysis Using BigFix Webreports Data 06/15/2018 snapshot\n",
    "\n",
    "## About\n",
    "Notebook developed around BigFix dataset to understand developer software at the agency it is backed by a postgresql database. See README.md on building the database.\n",
    "\n",
    "Uploaded data containt Linux, Windows and MacOS machines (server & desktop included)"
   ]
  },
  {
   "cell_type": "code",
   "execution_count": null,
   "metadata": {},
   "outputs": [],
   "source": [
    "# import needed libs\n",
    "import sys\n",
    "sys.path.append(\"../lib/app_utilities\")\n",
    "from bi_util import *\n",
    "from IPython.display import display, HTML"
   ]
  },
  {
   "cell_type": "code",
   "execution_count": null,
   "metadata": {},
   "outputs": [],
   "source": [
    "# Here is a list of everything we are going to look for\n",
    "#BI_LIST\n",
    "#BI_LIST.append(\"R\")\n",
    "#BI_LIST.append(\"%Shiny%\")\n",
    "#BI_LIST"
   ]
  },
  {
   "cell_type": "code",
   "execution_count": null,
   "metadata": {},
   "outputs": [],
   "source": [
    "# make the connection to the database we want to use for analysis\n",
    "# this DB was contructed from BigFix Webreport data taken on April 4th, 2018)\n",
    "CONN = create_connection('webreport_06_15_2018')"
   ]
  },
  {
   "cell_type": "code",
   "execution_count": null,
   "metadata": {},
   "outputs": [],
   "source": [
    "types = count_bi_types(CONN)"
   ]
  },
  {
   "cell_type": "code",
   "execution_count": null,
   "metadata": {},
   "outputs": [],
   "source": [
    "# Top 10 of the bi software where we have 1 or more types/permutations which match\n",
    "types[types['num_types'] > 0][:10]"
   ]
  },
  {
   "cell_type": "code",
   "execution_count": null,
   "metadata": {},
   "outputs": [],
   "source": [
    "# for a more indepth analysis of types/permutations in BI software lets\n",
    "# get a histogram breaking down all of the types we match\n",
    "#data = \n",
    "# bi_software_histo ('Microsoft SQL Server%', conn=CONN)\n",
    "# display(HTML(data.to_html()))"
   ]
  },
  {
   "cell_type": "code",
   "execution_count": null,
   "metadata": {},
   "outputs": [],
   "source": [
    "# find install info for rdbs\n",
    "# installs = count_bi_installs(CONN)"
   ]
  },
  {
   "cell_type": "code",
   "execution_count": null,
   "metadata": {
    "scrolled": true
   },
   "outputs": [],
   "source": [
    "# all of the db software where we have 1 or more installs (for any type/permutation)\n",
    "# installs[installs['num_installs'] > 0]"
   ]
  },
  {
   "cell_type": "code",
   "execution_count": null,
   "metadata": {},
   "outputs": [],
   "source": [
    "bi_software_histo ('Java%', conn=CONN)"
   ]
  },
  {
   "cell_type": "code",
   "execution_count": null,
   "metadata": {},
   "outputs": [],
   "source": [
    "# bi_software_histo ('Python%', conn=CONN)"
   ]
  },
  {
   "cell_type": "code",
   "execution_count": null,
   "metadata": {},
   "outputs": [],
   "source": [
    "sdata = bi_device_software ('Python%', conn=CONN)"
   ]
  },
  {
   "cell_type": "code",
   "execution_count": null,
   "metadata": {},
   "outputs": [],
   "source": [
    "sdata.columns"
   ]
  },
  {
   "cell_type": "code",
   "execution_count": null,
   "metadata": {},
   "outputs": [],
   "source": [
    "python_devices = sdata[['device_id','software_name']]"
   ]
  },
  {
   "cell_type": "code",
   "execution_count": null,
   "metadata": {},
   "outputs": [],
   "source": [
    "jdata = bi_device_software ('Java%', conn=CONN)"
   ]
  },
  {
   "cell_type": "code",
   "execution_count": null,
   "metadata": {},
   "outputs": [],
   "source": [
    "java_devices = jdata [['device_id','software_name']]"
   ]
  },
  {
   "cell_type": "code",
   "execution_count": null,
   "metadata": {},
   "outputs": [],
   "source": [
    "java_devices[:1]"
   ]
  },
  {
   "cell_type": "code",
   "execution_count": null,
   "metadata": {},
   "outputs": [],
   "source": [
    "merged = pd.concat([python_devices.device_id, java_devices.device_id])"
   ]
  },
  {
   "cell_type": "code",
   "execution_count": null,
   "metadata": {},
   "outputs": [],
   "source": [
    "merged.unique().size"
   ]
  },
  {
   "cell_type": "code",
   "execution_count": null,
   "metadata": {},
   "outputs": [],
   "source": []
  }
 ],
 "metadata": {
  "kernelspec": {
   "display_name": "Python 3",
   "language": "python",
   "name": "python3"
  },
  "language_info": {
   "codemirror_mode": {
    "name": "ipython",
    "version": 3
   },
   "file_extension": ".py",
   "mimetype": "text/x-python",
   "name": "python",
   "nbconvert_exporter": "python",
   "pygments_lexer": "ipython3",
   "version": "3.6.4"
  }
 },
 "nbformat": 4,
 "nbformat_minor": 2
}
