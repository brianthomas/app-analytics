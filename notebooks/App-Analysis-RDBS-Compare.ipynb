{
 "cells": [
  {
   "cell_type": "markdown",
   "metadata": {},
   "source": [
    "# Interim (Relational) Database Analysis Comparing BigFix Inventory and Webreports Data\n",
    "\n",
    "## About\n",
    "\n",
    "This report examines the BigFix Webreports and Inventory datasets to understand Database software at the agency."
   ]
  },
  {
   "cell_type": "code",
   "execution_count": null,
   "metadata": {},
   "outputs": [],
   "source": [
    "# import needed libs\n",
    "import sys\n",
    "sys.path.append(\"../lib/app_utilities\")\n",
    "from db_util import *\n",
    "from IPython.display import display, HTML"
   ]
  },
  {
   "cell_type": "code",
   "execution_count": null,
   "metadata": {},
   "outputs": [],
   "source": [
    "# make the connection to the databases we want to use for analysis\n",
    "# CONN1 DB was constructed from BigFix Webreport data taken on April 4th, 2018\n",
    "# CONN2 DB was constructed from BigFix Inventory data taken on April 17th, 2018\n",
    "CONN1 = create_connection('apps2')\n",
    "CONN2 = create_connection('bfi')"
   ]
  },
  {
   "cell_type": "code",
   "execution_count": null,
   "metadata": {},
   "outputs": [],
   "source": [
    "# find install info for rdbs in BigFix Webreports (\"Webreports\")\n",
    "wr_installs = count_rdbs_installs(CONN1)"
   ]
  },
  {
   "cell_type": "code",
   "execution_count": null,
   "metadata": {},
   "outputs": [],
   "source": [
    "# find install info for rdbs in BigFix Inventory (\"BFI\")\n",
    "bfi_installs = count_rdbs_installs(CONN2, table='device_software')"
   ]
  },
  {
   "cell_type": "code",
   "execution_count": null,
   "metadata": {},
   "outputs": [],
   "source": [
    "# all of the db software where we have 1 or more installs (for any type/permutation)\n",
    "data = pd.concat([wr_installs[wr_installs['num_installs'] > 0][:10], bfi_installs[bfi_installs['num_installs'] > 0][:10]], axis=1)"
   ]
  },
  {
   "cell_type": "markdown",
   "metadata": {},
   "source": [
    "## Analysis\n",
    "\n",
    "Here is a side by side comparison of the top 10 number of RDBS installs for Webreports (left) vs BFI (right) data."
   ]
  },
  {
   "cell_type": "code",
   "execution_count": null,
   "metadata": {},
   "outputs": [],
   "source": [
    "data.columns = ['wr installs', 'wr software', 'bfi installs', 'bfi software']\n",
    "HTML(data.to_html())"
   ]
  },
  {
   "cell_type": "markdown",
   "metadata": {},
   "source": [
    "Clearly these sources do not agree. For the remainder of the report we focus on the glaring discrepancy with the top item in each list (Microsoft SQL Server vs MS Access). \n",
    "\n",
    "### Microsoft SQL Server discrepancy analysis\n",
    "\n",
    "We can resolve some of the problems comparing Webreports and BFI data for Microsoft SQL Server by spliting it into sub-categories. In addition to simply \"Microsoft SQL Server\" we can see that SQL Server has sub-types : \"Compact\", \"R2\", \"LocalDB\", \"RC\". *BFI and Webreports install data are approximately within 50% of each other with the exception of \"Compact\" which are wildly different (121 vs 3096). This is a significant difference which we cannot currently explain.*\n",
    "\n",
    "### Microsoft Access discrepancy analysis\n",
    "\n",
    "If we take a look at BFI types which match \"Microsoft Access\" we find the vast majority are related to Office 2013 installations, e.g."
   ]
  },
  {
   "cell_type": "code",
   "execution_count": null,
   "metadata": {},
   "outputs": [],
   "source": [
    "# Top 5 number of install types on BFI for Microsoft Access\n",
    "bfi_access = db_software_histo(\"Microsoft Access%\", conn=CONN2, table='device_software')[:5]\n",
    "# Top 5 number of install types from WR for Microsoft Access\n",
    "wr_access = db_software_histo(\"Microsoft Access%\", conn=CONN1)[:5]"
   ]
  },
  {
   "cell_type": "code",
   "execution_count": null,
   "metadata": {},
   "outputs": [],
   "source": [
    "# combine and present access information for both BFI and WR\n",
    "data3 = pd.concat([wr_access, bfi_access], axis=1)\n",
    "data3.columns = ['wr_software_name', 'wr_installs', 'bfi_software_name', 'bfi_installs']\n",
    "data3"
   ]
  },
  {
   "cell_type": "markdown",
   "metadata": {},
   "source": [
    "Investigation of the BFI signature file indicates that it is using the registry to find these extra instances by simply counting \"Microsoft Office Professional 2013\" installs (Quick online searches confirm that Office 2013 and 2016 Professional editions ship with Access DB). Here are some of the relevant rules:\n",
    "\n",
    "    <sam__file_rule signature_guid=\"3955D6F1-9F5B-3C25-BF24-29EE8EA4605A\" name=\"msaccess.exe\" version=\"15.0\"/>\n",
    "    \n",
    "    <sam__registry_rule signature_guid=\"3955D6F1-9F5B-3C25-BF24-29EE8EA4605A\" key=\"HKEY_LOCAL_MACHINE\\SOFTWARE\\Microsoft\\Windows\\CurrentVersion\\Uninstall\\*\" value=\"DisplayNameVersion\" expected=\"Microsoft Office Professional Plus 2013 - *\"/>\n",
    "    \n",
    "Using this information and trying to search the Webreports data we find the top office installs to be (windows machines only): \n",
    "\n",
    "<table>\n",
    "    <tr><th>software_name</th><th>num</th></tr>  \n",
    "<tr><td>\n",
    " Microsoft Office Professional Plus 2013</td><td>\n",
    "    19156</td></tr>\n",
    "<tr><td>\n",
    " Microsoft Office Professional Plus 2016</td><td>\n",
    "    18102</td></tr>\n",
    " <tr><td>\n",
    " Microsoft Office Professional Plus 2010 \n",
    "       </td><td>\n",
    "    502\n",
    "         </td></tr>\n",
    "<tr><td>\n",
    "Microsoft Office Standard 2016  \n",
    "      </td><td>\n",
    "488\n",
    "        </td></tr>\n",
    " <tr><td>\n",
    " Microsoft Office Standard 2013   \n",
    "       </td><td>\n",
    "433\n",
    "         </td></tr>\n",
    " <tr><td>\n",
    " Microsoft Office Professional 2013 - en-us   \n",
    "       </td><td>\n",
    " 233\n",
    "         </td></tr>\n",
    " <tr><td>\n",
    " Microsoft Office Visio Professional 2007   \n",
    "       </td><td>\n",
    "  227\n",
    "         </td></tr>\n",
    " <tr><td>\n",
    " Microsoft Office Professional Plus 2007     \n",
    "       </td><td>\n",
    " 185\n",
    "         </td></tr>\n",
    " <tr><td>\n",
    " Microsoft Office Home and Business 2013 - en-us  \n",
    "       </td><td>\n",
    "182\n",
    "         </td></tr>\n",
    " <tr><td>\n",
    " Microsoft Office Standard 2010          \n",
    "       </td><td>\n",
    " 152\n",
    "         </td></tr>\n",
    " <tr><td>\n",
    " Microsoft Office Standard 2007   \n",
    "       </td><td>\n",
    " 143\n",
    "         </td></tr>\n",
    "<tr><td>\n",
    "Microsoft Office Home and Business 2016 - en-us   \n",
    "      </td><td>\n",
    "134\n",
    "        </td></tr>\n",
    "</table>\n",
    "\n",
    "So indeed we see that we have lots of Office installs which qualify in Webreports data, but *too many, by a factor of 4* (9515 vs 19156 + 18102). The question remains as to why we recover more instances of office 2013 and 2016 from Webreports than BFI. "
   ]
  },
  {
   "cell_type": "markdown",
   "metadata": {},
   "source": [
    "## Summary\n",
    "\n",
    "Clearly these datasources are not entirely consistent. We are aware that there are problems in the MacOS and (possibly) linux machine data. That said, the majority of the installs for SQL Server and Access are (probably) on windows machines so that is likely not much of an issue.\n",
    "\n",
    "In both examined cases we see that Webreports is uncovering more instances than BFI, which is surprising. ***Looking more closely at Webreports data, we do see some duplicate machines matching --- need to investigate further here*** Possibly duplications of installs may be pushing Webreports numbers up, but this cannot be yet confirmed that this is the sole source of the discrepancy.\n",
    "\n",
    "In summary neither datasource can be trusted at this point as we do not sufficiently understand the full nature of either datasource."
   ]
  },
  {
   "cell_type": "markdown",
   "metadata": {},
   "source": [
    "### Appendices\n",
    "\n",
    "#### Suplementary Analysis Stuff"
   ]
  },
  {
   "cell_type": "markdown",
   "metadata": {},
   "source": [
    "Table 1. Aligning BFI and Webreports installs by ID (note that \"SQL Server LocalDB\" is misaligned in the table below, it should match \"Microsoft SQL Server LocalDB\")"
   ]
  },
  {
   "cell_type": "code",
   "execution_count": null,
   "metadata": {},
   "outputs": [],
   "source": [
    "data2 = wr_installs.merge(bfi_installs, left_on='software_name', right_on='software_name')\n",
    "data2.columns = ['webreports', 'db name', 'bfi']\n",
    "data2[data2['db name'].str.contains('SQL Server')]"
   ]
  }
 ],
 "metadata": {
  "kernelspec": {
   "display_name": "Python 3",
   "language": "python",
   "name": "python3"
  },
  "language_info": {
   "codemirror_mode": {
    "name": "ipython",
    "version": 3
   },
   "file_extension": ".py",
   "mimetype": "text/x-python",
   "name": "python",
   "nbconvert_exporter": "python",
   "pygments_lexer": "ipython3",
   "version": "3.6.4"
  }
 },
 "nbformat": 4,
 "nbformat_minor": 2
}
