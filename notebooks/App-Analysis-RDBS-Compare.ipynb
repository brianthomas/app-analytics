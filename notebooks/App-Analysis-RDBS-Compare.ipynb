{
 "cells": [
  {
   "cell_type": "markdown",
   "metadata": {},
   "source": [
    "# (Relational) Database Analysis Using BigFix Webreports Data\n",
    "\n",
    "## About\n",
    "\n",
    "Notebook developed around BigFix dataset to understand Database software at the agency it is backed by a postgresql database. See README.md on building the database."
   ]
  },
  {
   "cell_type": "code",
   "execution_count": 1,
   "metadata": {},
   "outputs": [],
   "source": [
    "# import needed libs\n",
    "import sys\n",
    "sys.path.append(\"../lib/app_utilities\")\n",
    "from db_util import *\n",
    "from IPython.display import display, HTML"
   ]
  },
  {
   "cell_type": "code",
   "execution_count": null,
   "metadata": {},
   "outputs": [],
   "source": [
    "# make the connection to the databases we want to use for analysis\n",
    "# CONN1 DB was constructed from BigFix Webreport data taken on April 4th, 2018\n",
    "# CONN2 DB was constructed from BigFix Inventory data taken on April 17th, 2018\n",
    "CONN1 = create_connection('apps2')\n",
    "CONN2 = create_connection('bfi')"
   ]
  },
  {
   "cell_type": "code",
   "execution_count": null,
   "metadata": {},
   "outputs": [],
   "source": [
    "# find install info for rdbs\n",
    "wr_installs = count_rdbs_installs(CONN1)"
   ]
  },
  {
   "cell_type": "code",
   "execution_count": null,
   "metadata": {},
   "outputs": [],
   "source": [
    "bfi_installs = count_rdbs_installs(CONN2, table='device_software')"
   ]
  },
  {
   "cell_type": "code",
   "execution_count": null,
   "metadata": {},
   "outputs": [],
   "source": [
    "# all of the db software where we have 1 or more installs (for any type/permutation)\n",
    "data = pd.concat([wr_installs[wr_installs['num_installs'] > 0][:10], bfi_installs[bfi_installs['num_installs'] > 0][:10]], axis=1)"
   ]
  },
  {
   "cell_type": "markdown",
   "metadata": {},
   "source": [
    "Here is a side by side comparison of the top 10 number of RDBS installs for Webreports (left) vs BigFix Inventory (right) data."
   ]
  },
  {
   "cell_type": "code",
   "execution_count": null,
   "metadata": {},
   "outputs": [],
   "source": [
    "HTML(data.to_html())"
   ]
  },
  {
   "cell_type": "markdown",
   "metadata": {},
   "source": [
    "We a glaring discrepancy with the top 2 in each list (SQL Server vs Access). Currently we can't explain how there are significantly more MS SQL Server instances in Webreports data vs BFI. Its not an issue of goofing the filter (at least, nothing obvious).\n",
    "\n",
    "The datasources are probably not entirely consistent. We are aware that there are problems in the MacOS and (possibly) linux machine data. That said, the majority of the installs for SQL Server and Access are (probably) on windows machines. \n"
   ]
  },
  {
   "cell_type": "markdown",
   "metadata": {},
   "source": [
    "<h2>Summary</h2>"
   ]
  },
  {
   "cell_type": "markdown",
   "metadata": {},
   "source": [
    "Neither datasource can be trusted at this point. We need to understand better the filtering criteria which BFI is applying as well as a more detailed look into machines showing MS SQL Server which are not showing up in BFI. "
   ]
  },
  {
   "cell_type": "code",
   "execution_count": null,
   "metadata": {},
   "outputs": [],
   "source": []
  }
 ],
 "metadata": {
  "kernelspec": {
   "display_name": "Python 3",
   "language": "python",
   "name": "python3"
  },
  "language_info": {
   "codemirror_mode": {
    "name": "ipython",
    "version": 3
   },
   "file_extension": ".py",
   "mimetype": "text/x-python",
   "name": "python",
   "nbconvert_exporter": "python",
   "pygments_lexer": "ipython3",
   "version": "3.6.4"
  }
 },
 "nbformat": 4,
 "nbformat_minor": 2
}
