{
 "cells": [
  {
   "cell_type": "code",
   "execution_count": null,
   "metadata": {},
   "outputs": [],
   "source": [
    "# Notebook developed around BigFix dataset to understand Database software at the agency\n",
    "# it is backed by a postgresql database. See README.md on building the database.\n",
    "\n",
    "import sys\n",
    "sys.path.append(\"../bin\")\n",
    "from utility import *\n",
    "\n",
    "from IPython.display import display, HTML"
   ]
  },
  {
   "cell_type": "code",
   "execution_count": null,
   "metadata": {},
   "outputs": [],
   "source": [
    "# make the connection to the database\n",
    "conn = create_connection('apps2')"
   ]
  },
  {
   "cell_type": "code",
   "execution_count": null,
   "metadata": {},
   "outputs": [],
   "source": [
    "# grab some data about centers\n",
    "center_query = Query (conn, \"center_map\")"
   ]
  },
  {
   "cell_type": "code",
   "execution_count": null,
   "metadata": {},
   "outputs": [],
   "source": [
    "def software_search (software, table_name='software_map'):\n",
    "    ''' Simple program to automate software searches '''\n",
    "    query = Query (conn, table_name, f\"\"\"where software_name ilike '%{software}%'\"\"\")\n",
    "    num_results = len(query.result)\n",
    "    \n",
    "    if num_results > 0:\n",
    "        display(HTML(query.result.to_html()))"
   ]
  },
  {
   "cell_type": "code",
   "execution_count": null,
   "metadata": {},
   "outputs": [],
   "source": [
    "def software_center_search_for (software):\n",
    "    ''' Simple program to automate various software searches '''\n",
    "    # iterate through each center and do a query for named IBM software\n",
    "    # and print it out\n",
    "    for center_name in center_query.result[\"center_name\"]:\n",
    "        query = HistoQuery (conn, \"device_software\", \"software_name\", f\"\"\"where center_name = '{center_name}' and ( software_name ilike '%{software}%' or install_location ilike '%{software}%')\"\"\")\n",
    "        num_results = len(query.result)\n",
    "    \n",
    "        if num_results > 0:\n",
    "            print (f\"\"\"{center_name} has {num_results} {software} results \"\"\")\n",
    "            display(HTML(query.result.to_html()))"
   ]
  },
  {
   "cell_type": "code",
   "execution_count": null,
   "metadata": {},
   "outputs": [],
   "source": [
    "# search for cognos\n",
    "# software_center_search_for('cognos')"
   ]
  },
  {
   "cell_type": "code",
   "execution_count": null,
   "metadata": {},
   "outputs": [],
   "source": [
    "# search for content analytics\n",
    "#software_center_search_for('content analytics')"
   ]
  },
  {
   "cell_type": "code",
   "execution_count": null,
   "metadata": {},
   "outputs": [],
   "source": [
    "# search for security\n",
    "#software_center_search_for('directory server')"
   ]
  },
  {
   "cell_type": "code",
   "execution_count": null,
   "metadata": {},
   "outputs": [],
   "source": [
    "# search instances\n",
    "software_search ('directory server')\n",
    "software_search ('content analytics')\n",
    "software_search ('Cognos analytics')"
   ]
  },
  {
   "cell_type": "code",
   "execution_count": null,
   "metadata": {},
   "outputs": [],
   "source": []
  }
 ],
 "metadata": {
  "kernelspec": {
   "display_name": "Python 3",
   "language": "python",
   "name": "python3"
  },
  "language_info": {
   "codemirror_mode": {
    "name": "ipython",
    "version": 3
   },
   "file_extension": ".py",
   "mimetype": "text/x-python",
   "name": "python",
   "nbconvert_exporter": "python",
   "pygments_lexer": "ipython3",
   "version": "3.6.4"
  }
 },
 "nbformat": 4,
 "nbformat_minor": 2
}
