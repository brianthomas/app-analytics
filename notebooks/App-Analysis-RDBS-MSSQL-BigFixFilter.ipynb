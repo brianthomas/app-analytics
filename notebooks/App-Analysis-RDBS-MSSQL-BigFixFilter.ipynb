{
 "cells": [
  {
   "cell_type": "markdown",
   "metadata": {},
   "source": [
    "\n",
    "# Relational Database Analysis Using BigFix Webreports Data 04/03/2018 snapshot\n",
    "\n",
    "## About\n",
    "Notebook developed around BigFix webreports dataset to understand Database software at the agency it is backed by a postgresql database. See README.md on building the database.\n",
    "\n",
    "__In this notebook we are looking at Applying the Microsoft SQL Server rules which have been pulled from the *BigFix Inventory Catalog* file to see how much overlap there is with the population of machines found in webreports.__\n",
    "\n",
    "Uploaded data are restricted to Windows and MacOS machines (server & desktop included)"
   ]
  },
  {
   "cell_type": "code",
   "execution_count": null,
   "metadata": {},
   "outputs": [],
   "source": [
    "# import needed libs\n",
    "import sys\n",
    "sys.path.append(\"../lib/app_utilities\")\n",
    "from db_util import *\n",
    "import re\n",
    "from IPython.display import display, HTML"
   ]
  },
  {
   "cell_type": "code",
   "execution_count": null,
   "metadata": {},
   "outputs": [],
   "source": [
    "def replace_chars (my_string):\n",
    "    # strip out glob (stars) chars from whereever it occurs\n",
    "    # AND add psql glob match character to ALL entries\n",
    "    p1 = my_string.replace(\"*\", \"\").strip() + '%'\n",
    "    # make sure we put in a % behin \"Microsoft SQL Server\" so we better\n",
    "    # match the string matching of webreports\n",
    "    p2 = p1.replace('Microsoft SQL Server', 'Microsoft SQL Server%')\n",
    "    # strip out double percents and return\n",
    "    return p2.replace('%%', '%')"
   ]
  },
  {
   "cell_type": "code",
   "execution_count": null,
   "metadata": {
    "scrolled": false
   },
   "outputs": [],
   "source": [
    "# Here is a list of everything we are going to look for\n",
    "# based on string extraction from BFI catalog for \"Microsoft SQL Server\" \n",
    "# string match in the catalog file\n",
    "MS_SQL_DB_LIST = list(set(map(replace_chars, read_file_list(\"/Volumes/BigFixData/ms_sql_server.txt\"))))\n",
    "#MS_SQL_DB_LIST"
   ]
  },
  {
   "cell_type": "code",
   "execution_count": null,
   "metadata": {},
   "outputs": [],
   "source": [
    "# make the connection to the database we want to use for analysis\n",
    "# this DB was contructed from BigFix Webreport data taken on April 4th, 2018)\n",
    "CONN = create_connection('apps2')"
   ]
  },
  {
   "cell_type": "code",
   "execution_count": null,
   "metadata": {},
   "outputs": [],
   "source": [
    "types = count_rdbs_types(CONN, db_list=MS_SQL_DB_LIST)"
   ]
  },
  {
   "cell_type": "code",
   "execution_count": null,
   "metadata": {},
   "outputs": [],
   "source": [
    "# all of the db software where we have 1 or more types/permutations which match\n",
    "types[types['num_types'] > 0]"
   ]
  },
  {
   "cell_type": "code",
   "execution_count": null,
   "metadata": {},
   "outputs": [],
   "source": [
    "# find install info for rdbs, Elminate duplicate entries for same device\n",
    "#\n",
    "installs = count_rdbs_installs(CONN, db_list=MS_SQL_DB_LIST, distinct_devices=True)"
   ]
  },
  {
   "cell_type": "code",
   "execution_count": null,
   "metadata": {
    "scrolled": true
   },
   "outputs": [],
   "source": [
    "# all of the db software where we have 1 or more installs (for any type/permutation)\n",
    "installs[installs['num_installs'] > 0]"
   ]
  },
  {
   "cell_type": "code",
   "execution_count": null,
   "metadata": {},
   "outputs": [],
   "source": [
    "# db_software_histo ('Microsoft SQL Server 2000%', conn=CONN)"
   ]
  },
  {
   "cell_type": "code",
   "execution_count": null,
   "metadata": {},
   "outputs": [],
   "source": [
    "# db_software_histo ('Microsoft SQL Server% LocalDB%', conn=CONN)"
   ]
  },
  {
   "cell_type": "code",
   "execution_count": null,
   "metadata": {},
   "outputs": [],
   "source": []
  }
 ],
 "metadata": {
  "kernelspec": {
   "display_name": "Python 3",
   "language": "python",
   "name": "python3"
  },
  "language_info": {
   "codemirror_mode": {
    "name": "ipython",
    "version": 3
   },
   "file_extension": ".py",
   "mimetype": "text/x-python",
   "name": "python",
   "nbconvert_exporter": "python",
   "pygments_lexer": "ipython3",
   "version": "3.6.4"
  }
 },
 "nbformat": 4,
 "nbformat_minor": 2
}
